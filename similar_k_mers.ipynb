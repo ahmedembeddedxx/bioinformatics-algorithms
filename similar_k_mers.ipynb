{
  "nbformat": 4,
  "nbformat_minor": 0,
  "metadata": {
    "colab": {
      "provenance": [],
      "authorship_tag": "ABX9TyMRclL7v9EVs8qoY9Zy/+vB",
      "include_colab_link": true
    },
    "kernelspec": {
      "name": "python3",
      "display_name": "Python 3"
    },
    "language_info": {
      "name": "python"
    }
  },
  "cells": [
    {
      "cell_type": "markdown",
      "metadata": {
        "id": "view-in-github",
        "colab_type": "text"
      },
      "source": [
        "<a href=\"https://colab.research.google.com/github/ahmedembeddedx/BioInformatics/blob/main/similar_k_mers.ipynb\" target=\"_parent\"><img src=\"https://colab.research.google.com/assets/colab-badge.svg\" alt=\"Open In Colab\"/></a>"
      ]
    },
    {
      "cell_type": "code",
      "execution_count": 15,
      "metadata": {
        "id": "f1tg7iOcxPL6"
      },
      "outputs": [],
      "source": [
        "kmer1 = 'ATCAAGCAA'\n",
        "kmer2 = 'TCATTGATT'\n",
        "\n",
        "#A-->T\n",
        "#C-->A\n",
        "#T-->C\n",
        "#G-->G"
      ]
    },
    {
      "cell_type": "code",
      "source": [
        "def similar_kmers(gen1:str, gen2:str)->bool:\n",
        "  if len(gen1) != len(gen2):\n",
        "    return False\n",
        "\n",
        "  dic = {}\n",
        "  for i in range(0, len(gen1)):\n",
        "    try:\n",
        "      if dic[gen1[i]] != gen2[i]:\n",
        "        return False\n",
        "    except:\n",
        "      dic[gen1[i]] = gen2[i]\n",
        "  print(dic)\n",
        "  return True"
      ],
      "metadata": {
        "id": "0FHjtQ0Fxxiw"
      },
      "execution_count": 11,
      "outputs": []
    },
    {
      "cell_type": "code",
      "source": [
        "if similar_kmers(kmer1, kmer2):\n",
        "  print('Following K-mers share the same pattern (most probably DNAa Box) with Pattern')\n",
        "else:\n",
        "  print('Following K-mers does not share the same pattern (most probably not DNAa Box)')"
      ],
      "metadata": {
        "colab": {
          "base_uri": "https://localhost:8080/"
        },
        "id": "JGnriNwBzWp5",
        "outputId": "ee878659-4b92-4d92-9629-908ee1240c10"
      },
      "execution_count": 17,
      "outputs": [
        {
          "output_type": "stream",
          "name": "stdout",
          "text": [
            "{'A': 'T', 'T': 'C', 'C': 'A', 'G': 'G'}\n",
            "Following K-mers share the same pattern (most probably DNAa Box) with Pattern\n"
          ]
        }
      ]
    }
  ]
}