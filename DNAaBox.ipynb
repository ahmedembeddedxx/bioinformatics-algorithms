{
  "nbformat": 4,
  "nbformat_minor": 0,
  "metadata": {
    "colab": {
      "provenance": [],
      "authorship_tag": "ABX9TyOOIMlhCJKyK5MVLaQnunHk",
      "include_colab_link": true
    },
    "kernelspec": {
      "name": "python3",
      "display_name": "Python 3"
    },
    "language_info": {
      "name": "python"
    }
  },
  "cells": [
    {
      "cell_type": "markdown",
      "metadata": {
        "id": "view-in-github",
        "colab_type": "text"
      },
      "source": [
        "<a href=\"https://colab.research.google.com/github/ahmedembeddedx/BioInformatics/blob/main/DNAaBox.ipynb\" target=\"_parent\"><img src=\"https://colab.research.google.com/assets/colab-badge.svg\" alt=\"Open In Colab\"/></a>"
      ]
    },
    {
      "cell_type": "code",
      "execution_count": 76,
      "metadata": {
        "id": "gh1328qR0Klc"
      },
      "outputs": [],
      "source": [
        "import pandas as pd\n",
        "from tqdm import tqdm"
      ]
    },
    {
      "cell_type": "code",
      "source": [
        "df = pd.read_table('https://bioinformaticsalgorithms.com/data/realdatasets/Replication/Vibrio_cholerae.txt', header=None, names=['Sequence'])\n",
        "\n",
        "genome = df.Sequence[0]\n",
        "\n",
        "genome[:100]"
      ],
      "metadata": {
        "colab": {
          "base_uri": "https://localhost:8080/",
          "height": 35
        },
        "id": "iPFP6XGl0joY",
        "outputId": "7d49204d-6aac-47f3-b5e5-3a8aa349ccb4"
      },
      "execution_count": 3,
      "outputs": [
        {
          "output_type": "execute_result",
          "data": {
            "text/plain": [
              "'ACAATGAGGTCACTATGTTCGAGCTCTTCAAACCGGCTGCGCATACGCAGCGGCTGCCATCCGATAAGGTGGACAGCGTCTATTCACGCCTTCGTTGGCA'"
            ],
            "application/vnd.google.colaboratory.intrinsic+json": {
              "type": "string"
            }
          },
          "metadata": {},
          "execution_count": 3
        }
      ]
    },
    {
      "cell_type": "code",
      "source": [
        "def find_kmer(k:int, genome: str):\n",
        "  if(len(genome) < k):\n",
        "    return None\n",
        "\n",
        "  li = []\n",
        "  for i in range(len(genome) - k + 1):\n",
        "    li.append(genome[i:i+k])\n",
        "\n",
        "  df = pd.DataFrame(li, columns=['k_mers'])\n",
        "  li = df.k_mers.value_counts()\n",
        "  li = li.to_frame().reset_index()\n",
        "\n",
        "  return li[li['count'] > 3]"
      ],
      "metadata": {
        "id": "k4Y-iM_P1ACb"
      },
      "execution_count": 48,
      "outputs": []
    },
    {
      "cell_type": "code",
      "source": [
        "kmers = find_kmer(9, genome)"
      ],
      "metadata": {
        "id": "6LonR3e51n4M"
      },
      "execution_count": 53,
      "outputs": []
    },
    {
      "cell_type": "code",
      "source": [
        "kmers.head()"
      ],
      "metadata": {
        "colab": {
          "base_uri": "https://localhost:8080/",
          "height": 206
        },
        "id": "NoCCV4Dd5duK",
        "outputId": "93a2c37b-3cc9-473b-c595-54c2fbcb78b0"
      },
      "execution_count": 54,
      "outputs": [
        {
          "output_type": "execute_result",
          "data": {
            "text/plain": [
              "      k_mers  count\n",
              "0  GCGTTTGTT    128\n",
              "1  TAACGCCCG    127\n",
              "2  AACGCCCGC    122\n",
              "3  CGTTTGTTA    122\n",
              "4  GGCGTTTGT    120"
            ],
            "text/html": [
              "\n",
              "  <div id=\"df-58d9e40a-ba66-485b-870f-35dd8b6c3fcc\" class=\"colab-df-container\">\n",
              "    <div>\n",
              "<style scoped>\n",
              "    .dataframe tbody tr th:only-of-type {\n",
              "        vertical-align: middle;\n",
              "    }\n",
              "\n",
              "    .dataframe tbody tr th {\n",
              "        vertical-align: top;\n",
              "    }\n",
              "\n",
              "    .dataframe thead th {\n",
              "        text-align: right;\n",
              "    }\n",
              "</style>\n",
              "<table border=\"1\" class=\"dataframe\">\n",
              "  <thead>\n",
              "    <tr style=\"text-align: right;\">\n",
              "      <th></th>\n",
              "      <th>k_mers</th>\n",
              "      <th>count</th>\n",
              "    </tr>\n",
              "  </thead>\n",
              "  <tbody>\n",
              "    <tr>\n",
              "      <th>0</th>\n",
              "      <td>GCGTTTGTT</td>\n",
              "      <td>128</td>\n",
              "    </tr>\n",
              "    <tr>\n",
              "      <th>1</th>\n",
              "      <td>TAACGCCCG</td>\n",
              "      <td>127</td>\n",
              "    </tr>\n",
              "    <tr>\n",
              "      <th>2</th>\n",
              "      <td>AACGCCCGC</td>\n",
              "      <td>122</td>\n",
              "    </tr>\n",
              "    <tr>\n",
              "      <th>3</th>\n",
              "      <td>CGTTTGTTA</td>\n",
              "      <td>122</td>\n",
              "    </tr>\n",
              "    <tr>\n",
              "      <th>4</th>\n",
              "      <td>GGCGTTTGT</td>\n",
              "      <td>120</td>\n",
              "    </tr>\n",
              "  </tbody>\n",
              "</table>\n",
              "</div>\n",
              "    <div class=\"colab-df-buttons\">\n",
              "\n",
              "  <div class=\"colab-df-container\">\n",
              "    <button class=\"colab-df-convert\" onclick=\"convertToInteractive('df-58d9e40a-ba66-485b-870f-35dd8b6c3fcc')\"\n",
              "            title=\"Convert this dataframe to an interactive table.\"\n",
              "            style=\"display:none;\">\n",
              "\n",
              "  <svg xmlns=\"http://www.w3.org/2000/svg\" height=\"24px\" viewBox=\"0 -960 960 960\">\n",
              "    <path d=\"M120-120v-720h720v720H120Zm60-500h600v-160H180v160Zm220 220h160v-160H400v160Zm0 220h160v-160H400v160ZM180-400h160v-160H180v160Zm440 0h160v-160H620v160ZM180-180h160v-160H180v160Zm440 0h160v-160H620v160Z\"/>\n",
              "  </svg>\n",
              "    </button>\n",
              "\n",
              "  <style>\n",
              "    .colab-df-container {\n",
              "      display:flex;\n",
              "      gap: 12px;\n",
              "    }\n",
              "\n",
              "    .colab-df-convert {\n",
              "      background-color: #E8F0FE;\n",
              "      border: none;\n",
              "      border-radius: 50%;\n",
              "      cursor: pointer;\n",
              "      display: none;\n",
              "      fill: #1967D2;\n",
              "      height: 32px;\n",
              "      padding: 0 0 0 0;\n",
              "      width: 32px;\n",
              "    }\n",
              "\n",
              "    .colab-df-convert:hover {\n",
              "      background-color: #E2EBFA;\n",
              "      box-shadow: 0px 1px 2px rgba(60, 64, 67, 0.3), 0px 1px 3px 1px rgba(60, 64, 67, 0.15);\n",
              "      fill: #174EA6;\n",
              "    }\n",
              "\n",
              "    .colab-df-buttons div {\n",
              "      margin-bottom: 4px;\n",
              "    }\n",
              "\n",
              "    [theme=dark] .colab-df-convert {\n",
              "      background-color: #3B4455;\n",
              "      fill: #D2E3FC;\n",
              "    }\n",
              "\n",
              "    [theme=dark] .colab-df-convert:hover {\n",
              "      background-color: #434B5C;\n",
              "      box-shadow: 0px 1px 3px 1px rgba(0, 0, 0, 0.15);\n",
              "      filter: drop-shadow(0px 1px 2px rgba(0, 0, 0, 0.3));\n",
              "      fill: #FFFFFF;\n",
              "    }\n",
              "  </style>\n",
              "\n",
              "    <script>\n",
              "      const buttonEl =\n",
              "        document.querySelector('#df-58d9e40a-ba66-485b-870f-35dd8b6c3fcc button.colab-df-convert');\n",
              "      buttonEl.style.display =\n",
              "        google.colab.kernel.accessAllowed ? 'block' : 'none';\n",
              "\n",
              "      async function convertToInteractive(key) {\n",
              "        const element = document.querySelector('#df-58d9e40a-ba66-485b-870f-35dd8b6c3fcc');\n",
              "        const dataTable =\n",
              "          await google.colab.kernel.invokeFunction('convertToInteractive',\n",
              "                                                    [key], {});\n",
              "        if (!dataTable) return;\n",
              "\n",
              "        const docLinkHtml = 'Like what you see? Visit the ' +\n",
              "          '<a target=\"_blank\" href=https://colab.research.google.com/notebooks/data_table.ipynb>data table notebook</a>'\n",
              "          + ' to learn more about interactive tables.';\n",
              "        element.innerHTML = '';\n",
              "        dataTable['output_type'] = 'display_data';\n",
              "        await google.colab.output.renderOutput(dataTable, element);\n",
              "        const docLink = document.createElement('div');\n",
              "        docLink.innerHTML = docLinkHtml;\n",
              "        element.appendChild(docLink);\n",
              "      }\n",
              "    </script>\n",
              "  </div>\n",
              "\n",
              "\n",
              "<div id=\"df-e6a398af-ddb7-40ed-a54b-564e79721500\">\n",
              "  <button class=\"colab-df-quickchart\" onclick=\"quickchart('df-e6a398af-ddb7-40ed-a54b-564e79721500')\"\n",
              "            title=\"Suggest charts\"\n",
              "            style=\"display:none;\">\n",
              "\n",
              "<svg xmlns=\"http://www.w3.org/2000/svg\" height=\"24px\"viewBox=\"0 0 24 24\"\n",
              "     width=\"24px\">\n",
              "    <g>\n",
              "        <path d=\"M19 3H5c-1.1 0-2 .9-2 2v14c0 1.1.9 2 2 2h14c1.1 0 2-.9 2-2V5c0-1.1-.9-2-2-2zM9 17H7v-7h2v7zm4 0h-2V7h2v10zm4 0h-2v-4h2v4z\"/>\n",
              "    </g>\n",
              "</svg>\n",
              "  </button>\n",
              "\n",
              "<style>\n",
              "  .colab-df-quickchart {\n",
              "      --bg-color: #E8F0FE;\n",
              "      --fill-color: #1967D2;\n",
              "      --hover-bg-color: #E2EBFA;\n",
              "      --hover-fill-color: #174EA6;\n",
              "      --disabled-fill-color: #AAA;\n",
              "      --disabled-bg-color: #DDD;\n",
              "  }\n",
              "\n",
              "  [theme=dark] .colab-df-quickchart {\n",
              "      --bg-color: #3B4455;\n",
              "      --fill-color: #D2E3FC;\n",
              "      --hover-bg-color: #434B5C;\n",
              "      --hover-fill-color: #FFFFFF;\n",
              "      --disabled-bg-color: #3B4455;\n",
              "      --disabled-fill-color: #666;\n",
              "  }\n",
              "\n",
              "  .colab-df-quickchart {\n",
              "    background-color: var(--bg-color);\n",
              "    border: none;\n",
              "    border-radius: 50%;\n",
              "    cursor: pointer;\n",
              "    display: none;\n",
              "    fill: var(--fill-color);\n",
              "    height: 32px;\n",
              "    padding: 0;\n",
              "    width: 32px;\n",
              "  }\n",
              "\n",
              "  .colab-df-quickchart:hover {\n",
              "    background-color: var(--hover-bg-color);\n",
              "    box-shadow: 0 1px 2px rgba(60, 64, 67, 0.3), 0 1px 3px 1px rgba(60, 64, 67, 0.15);\n",
              "    fill: var(--button-hover-fill-color);\n",
              "  }\n",
              "\n",
              "  .colab-df-quickchart-complete:disabled,\n",
              "  .colab-df-quickchart-complete:disabled:hover {\n",
              "    background-color: var(--disabled-bg-color);\n",
              "    fill: var(--disabled-fill-color);\n",
              "    box-shadow: none;\n",
              "  }\n",
              "\n",
              "  .colab-df-spinner {\n",
              "    border: 2px solid var(--fill-color);\n",
              "    border-color: transparent;\n",
              "    border-bottom-color: var(--fill-color);\n",
              "    animation:\n",
              "      spin 1s steps(1) infinite;\n",
              "  }\n",
              "\n",
              "  @keyframes spin {\n",
              "    0% {\n",
              "      border-color: transparent;\n",
              "      border-bottom-color: var(--fill-color);\n",
              "      border-left-color: var(--fill-color);\n",
              "    }\n",
              "    20% {\n",
              "      border-color: transparent;\n",
              "      border-left-color: var(--fill-color);\n",
              "      border-top-color: var(--fill-color);\n",
              "    }\n",
              "    30% {\n",
              "      border-color: transparent;\n",
              "      border-left-color: var(--fill-color);\n",
              "      border-top-color: var(--fill-color);\n",
              "      border-right-color: var(--fill-color);\n",
              "    }\n",
              "    40% {\n",
              "      border-color: transparent;\n",
              "      border-right-color: var(--fill-color);\n",
              "      border-top-color: var(--fill-color);\n",
              "    }\n",
              "    60% {\n",
              "      border-color: transparent;\n",
              "      border-right-color: var(--fill-color);\n",
              "    }\n",
              "    80% {\n",
              "      border-color: transparent;\n",
              "      border-right-color: var(--fill-color);\n",
              "      border-bottom-color: var(--fill-color);\n",
              "    }\n",
              "    90% {\n",
              "      border-color: transparent;\n",
              "      border-bottom-color: var(--fill-color);\n",
              "    }\n",
              "  }\n",
              "</style>\n",
              "\n",
              "  <script>\n",
              "    async function quickchart(key) {\n",
              "      const quickchartButtonEl =\n",
              "        document.querySelector('#' + key + ' button');\n",
              "      quickchartButtonEl.disabled = true;  // To prevent multiple clicks.\n",
              "      quickchartButtonEl.classList.add('colab-df-spinner');\n",
              "      try {\n",
              "        const charts = await google.colab.kernel.invokeFunction(\n",
              "            'suggestCharts', [key], {});\n",
              "      } catch (error) {\n",
              "        console.error('Error during call to suggestCharts:', error);\n",
              "      }\n",
              "      quickchartButtonEl.classList.remove('colab-df-spinner');\n",
              "      quickchartButtonEl.classList.add('colab-df-quickchart-complete');\n",
              "    }\n",
              "    (() => {\n",
              "      let quickchartButtonEl =\n",
              "        document.querySelector('#df-e6a398af-ddb7-40ed-a54b-564e79721500 button');\n",
              "      quickchartButtonEl.style.display =\n",
              "        google.colab.kernel.accessAllowed ? 'block' : 'none';\n",
              "    })();\n",
              "  </script>\n",
              "</div>\n",
              "\n",
              "    </div>\n",
              "  </div>\n"
            ],
            "application/vnd.google.colaboratory.intrinsic+json": {
              "type": "dataframe",
              "variable_name": "kmers"
            }
          },
          "metadata": {},
          "execution_count": 54
        }
      ]
    },
    {
      "cell_type": "code",
      "source": [
        "def similar_kmers(gen1:str, gen2:str)->bool:\n",
        "  if len(gen1) != len(gen2):\n",
        "    return False\n",
        "\n",
        "  dic = {}\n",
        "  for i in range(0, len(gen1)):\n",
        "    try:\n",
        "      if dic[gen1[i]] != gen2[i]:\n",
        "        return False\n",
        "    except:\n",
        "      dic[gen1[i]] = gen2[i]\n",
        "  return True"
      ],
      "metadata": {
        "id": "rWzOrrMg5Sby"
      },
      "execution_count": 58,
      "outputs": []
    },
    {
      "cell_type": "code",
      "source": [
        "def DNAaBox(df):\n",
        "    li = []\n",
        "    total_iterations = (df.shape[0] * (df.shape[0] - 1)) // 2\n",
        "    with tqdm(total=total_iterations, desc=\"Processing\") as pbar:\n",
        "        for i in range(df.shape[0]-1):\n",
        "            for j in range(i+1, df.shape[0]):\n",
        "                if similar_kmers(df.k_mers[i], df.k_mers[j]):\n",
        "                    li.append((df.k_mers[i], df.k_mers[j]))\n",
        "                pbar.update(1)\n",
        "\n",
        "    return li"
      ],
      "metadata": {
        "id": "JqWvJAG811rQ"
      },
      "execution_count": 73,
      "outputs": []
    },
    {
      "cell_type": "code",
      "source": [
        "print('Possible DNAa Boxs')\n",
        "DNAaBox(kmers[:200])"
      ],
      "metadata": {
        "colab": {
          "base_uri": "https://localhost:8080/"
        },
        "id": "-7qoGp-75tay",
        "outputId": "d0493ead-5eb5-4558-8b1d-2f05a30fdb1b"
      },
      "execution_count": 75,
      "outputs": [
        {
          "output_type": "stream",
          "name": "stdout",
          "text": [
            "Possible DNAa Boxs\n"
          ]
        },
        {
          "output_type": "stream",
          "name": "stderr",
          "text": [
            "Processing: 100%|██████████| 19900/19900 [00:00<00:00, 51085.15it/s]\n"
          ]
        },
        {
          "output_type": "execute_result",
          "data": {
            "text/plain": [
              "[('CGTTTGTTA', 'CGCCCGCCT'),\n",
              " ('TGGGACTGG', 'CAAACACAA'),\n",
              " ('TGGGACTGG', 'CAAACTCAA'),\n",
              " ('TGGGACTGG', 'CAAAACCAA'),\n",
              " ('GGGACTGGA', 'AAACACAAC'),\n",
              " ('GGGACTGGA', 'AAACCAAAC'),\n",
              " ('GACTGGAAA', 'CAAGCCAAA'),\n",
              " ('ACTGGAAAC', 'TTTGGTTTT'),\n",
              " ('GGACTGGAA', 'TTTGATTTT'),\n",
              " ('GGACTGGAA', 'TTTGGTTTT'),\n",
              " ('CCGCCTAAG', 'AAAAAGCCA'),\n",
              " ('CGCCTAAGG', 'ACAACAACC'),\n",
              " ('CGCCTAAGG', 'AAAAGCCAA'),\n",
              " ('GCCCGCCTA', 'GTTTGTTAT'),\n",
              " ('GCCCGCCTA', 'GTTTGTTAG'),\n",
              " ('CCTAAGGGG', 'TTTGGTTTT'),\n",
              " ('CGCGTTGAC', 'ACACAACAA'),\n",
              " ('GCGTTGACA', 'TTTGGTTTT'),\n",
              " ('GCCTAAGGG', 'AAAGCCAAA'),\n",
              " ('GCCTAAGGG', 'ATTGAAAAA'),\n",
              " ('CTTGAGGCG', 'AAACGCCAC'),\n",
              " ('GTTGACAGT', 'AAAACTCAA'),\n",
              " ('CAGTCCCTC', 'ACTCAAACA'),\n",
              " ('AGTCCCTCT', 'CTCAAACAC'),\n",
              " ('CCTCTTGAG', 'CCGCGGCTC'),\n",
              " ('ACAGTCCCT', 'AAACCAAAC'),\n",
              " ('CACGCGTTG', 'CGCGCGTTG'),\n",
              " ('GCCACGCGT', 'GCCGCGCGT'),\n",
              " ('AGGGGCTGG', 'CAAAACCAA'),\n",
              " ('GGCAACGCA', 'AAACCAAAC'),\n",
              " ('ATGGGACTG', 'CCAAACTCA'),\n",
              " ('ATGGGACTG', 'CAAAACCAA'),\n",
              " ('AATGGGACT', 'TTTGGGTAT'),\n",
              " ('CCACGCGTT', 'CCGCGCGTT'),\n",
              " ('GCAACGCAT', 'AACCAAACT'),\n",
              " ('GCAACGCAT', 'CGCCGCGCG'),\n",
              " ('CTCAATGGG', 'TTTGGTTTT'),\n",
              " ('CGCCACGCG', 'CGCCGCGCG'),\n",
              " ('GCTGACAAC', 'GATGAAAAA'),\n",
              " ('ATTGGGACT', 'TTTGGGTAT'),\n",
              " ('ACAACGCAT', 'CGCCGCGCG'),\n",
              " ('ACAACGCAT', 'CACCAAACT'),\n",
              " ('TTTGATTTT', 'TTTGGTTTT'),\n",
              " ('CTTGCTCAA', 'CAATCACTT'),\n",
              " ('CCGTAACCA', 'CCGAAACCA'),\n",
              " ('GCTGATTTT', 'GATGATTTT'),\n",
              " ('TTTTGCTGC', 'TTTTCATCA'),\n",
              " ('CTGATTTTT', 'GATGAAAAA'),\n",
              " ('AACCGAAAC', 'TTGGCTTTG'),\n",
              " ('TTTGGCTTT', 'TTTGGTTTT'),\n",
              " ('GCATTACCA', 'TTTGGTTTT'),\n",
              " ('GCATTACCA', 'TCAAAACCA'),\n",
              " ('CTTGGCTTT', 'TTTGGTTTT')]"
            ]
          },
          "metadata": {},
          "execution_count": 75
        }
      ]
    },
    {
      "cell_type": "code",
      "source": [],
      "metadata": {
        "id": "OSCKJhjw6XjR"
      },
      "execution_count": null,
      "outputs": []
    }
  ]
}