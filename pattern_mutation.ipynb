{
  "nbformat": 4,
  "nbformat_minor": 0,
  "metadata": {
    "colab": {
      "provenance": [],
      "authorship_tag": "ABX9TyMGC9fOMmS5tse7HSaeXDeP",
      "include_colab_link": true
    },
    "kernelspec": {
      "name": "python3",
      "display_name": "Python 3"
    },
    "language_info": {
      "name": "python"
    }
  },
  "cells": [
    {
      "cell_type": "markdown",
      "metadata": {
        "id": "view-in-github",
        "colab_type": "text"
      },
      "source": [
        "<a href=\"https://colab.research.google.com/github/ahmedembeddedx/BioInformatics/blob/main/pattern_mutation.ipynb\" target=\"_parent\"><img src=\"https://colab.research.google.com/assets/colab-badge.svg\" alt=\"Open In Colab\"/></a>"
      ]
    },
    {
      "cell_type": "code",
      "execution_count": 4,
      "metadata": {
        "id": "hDo5QalPFrrG"
      },
      "outputs": [],
      "source": [
        "genome1 = 'GCCGAGAGTAAACAGACTGCTTGCCACAAC'\n",
        "genome2 = 'GAGAGTAACAACACGAGCCCCAGACTGCTT'"
      ]
    },
    {
      "cell_type": "code",
      "source": [
        "def is_mutation(genome1: str, genome2: str)->bool:\n",
        "  return sorted(genome1) == sorted(genome2)"
      ],
      "metadata": {
        "id": "xDhRiyUtF8tg"
      },
      "execution_count": 5,
      "outputs": []
    },
    {
      "cell_type": "code",
      "source": [
        "is_mutation(genome1, genome2)"
      ],
      "metadata": {
        "colab": {
          "base_uri": "https://localhost:8080/"
        },
        "id": "R40D5AjwF-bC",
        "outputId": "4e832b0a-2a78-49fb-d2de-e04cb2f06f14"
      },
      "execution_count": 6,
      "outputs": [
        {
          "output_type": "execute_result",
          "data": {
            "text/plain": [
              "True"
            ]
          },
          "metadata": {},
          "execution_count": 6
        }
      ]
    },
    {
      "cell_type": "code",
      "source": [
        "genome1 = 'GCCGAGAGTAAACAGACTGCTTGCCACAAC'\n",
        "genome2 = 'GAGAGTAACAACAAGAGCCCCAGACTGCTT'"
      ],
      "metadata": {
        "id": "ZXb5ZfoHGN-d"
      },
      "execution_count": 7,
      "outputs": []
    },
    {
      "cell_type": "code",
      "source": [
        "is_mutation(genome1, genome2)"
      ],
      "metadata": {
        "colab": {
          "base_uri": "https://localhost:8080/"
        },
        "id": "2HZDDKqkGRYg",
        "outputId": "7b453bb8-23a8-4449-bdb9-58613bd40aa4"
      },
      "execution_count": 8,
      "outputs": [
        {
          "output_type": "execute_result",
          "data": {
            "text/plain": [
              "False"
            ]
          },
          "metadata": {},
          "execution_count": 8
        }
      ]
    }
  ]
}